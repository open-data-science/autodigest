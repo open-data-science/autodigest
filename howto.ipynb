{
 "cells": [
  {
   "cell_type": "code",
   "execution_count": 1,
   "metadata": {
    "collapsed": false,
    "deletable": true,
    "editable": true
   },
   "outputs": [],
   "source": [
    "from utils import SlackMessage, harvest_channel, msg_as_attachment"
   ]
  },
  {
   "cell_type": "code",
   "execution_count": 2,
   "metadata": {
    "collapsed": true,
    "deletable": true,
    "editable": true
   },
   "outputs": [],
   "source": [
    "from slacker import Slacker\n",
    "from colour import Color\n",
    "import heapq\n",
    "\n",
    "# gt token at https://api.slack.com/custom-integrations/legacy-tokens\n",
    "TOKEN = 'SOME-STRING'\n",
    "slack = Slacker(TOKEN)"
   ]
  },
  {
   "cell_type": "code",
   "execution_count": 3,
   "metadata": {
    "collapsed": false,
    "deletable": true,
    "editable": true
   },
   "outputs": [
    {
     "name": "stdout",
     "output_type": "stream",
     "text": [
      "career\n",
      "deep_learning\n",
      "hardware\n",
      "theory_and_practice\n"
     ]
    }
   ],
   "source": [
    "messages = []\n",
    "channel_list = ['career', 'deep_learning', 'hardware', 'theory_and_practice']\n",
    "for channel_name in channel_list:\n",
    "    print(channel_name)\n",
    "    messages.extend(harvest_channel(slack, channel_name, days=3))"
   ]
  },
  {
   "cell_type": "code",
   "execution_count": 4,
   "metadata": {
    "collapsed": false,
    "deletable": true,
    "editable": true
   },
   "outputs": [],
   "source": [
    "red = Color(\"red\")\n",
    "blue = Color(\"blue\")\n",
    "colors_varians = list(red.range_to(blue, 11))\n",
    "\n",
    "attachments = []\n",
    "top_n = 10\n",
    "\n",
    "for i, msg_obj in enumerate(heapq.nlargest(top_n, messages, key = lambda m: m.score)):\n",
    "    attachments.append(msg_as_attachment(msg_obj, hex_color=colors_varians[i].get_hex()))"
   ]
  },
  {
   "cell_type": "code",
   "execution_count": 8,
   "metadata": {
    "collapsed": false,
    "deletable": true,
    "editable": true
   },
   "outputs": [
    {
     "data": {
      "text/plain": [
       "<slacker.Response at 0x109947d68>"
      ]
     },
     "execution_count": 8,
     "metadata": {},
     "output_type": "execute_result"
    }
   ],
   "source": [
    "slack.chat.post_message(channel='@mtrofimov', \n",
    "        text='[fix] digest demo, 10 hottest post over last 7 days. Based on {} posts from {} channels'.format(\n",
    "            len(messages), \n",
    "            len(channel_list)), \n",
    "        as_user=True, \n",
    "        attachments=attachments,\n",
    "        unfurl_links=True,\n",
    "        unfurl_media=True)"
   ]
  }
 ],
 "metadata": {
  "kernelspec": {
   "display_name": "Python 3",
   "language": "python",
   "name": "python3"
  },
  "language_info": {
   "codemirror_mode": {
    "name": "ipython",
    "version": 3
   },
   "file_extension": ".py",
   "mimetype": "text/x-python",
   "name": "python",
   "nbconvert_exporter": "python",
   "pygments_lexer": "ipython3",
   "version": "3.6.0"
  }
 },
 "nbformat": 4,
 "nbformat_minor": 2
}
